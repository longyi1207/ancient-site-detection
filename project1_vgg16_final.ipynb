{
  "nbformat": 4,
  "nbformat_minor": 0,
  "metadata": {
    "colab": {
      "name": "project1_vgg16_final.ipynb",
      "provenance": [],
      "collapsed_sections": []
    },
    "kernelspec": {
      "name": "python3",
      "display_name": "Python 3"
    },
    "language_info": {
      "name": "python"
    },
    "accelerator": "GPU"
  },
  "cells": [
    {
      "cell_type": "code",
      "metadata": {
        "id": "mUzueyO80buK",
        "colab": {
          "base_uri": "https://localhost:8080/"
        },
        "outputId": "670f19dc-fa67-4372-cf2a-6b94d6196265"
      },
      "source": [
        "from google.colab import drive\n",
        "drive.mount('/content/drive')"
      ],
      "execution_count": null,
      "outputs": [
        {
          "output_type": "stream",
          "text": [
            "Mounted at /content/drive\n"
          ],
          "name": "stdout"
        }
      ]
    },
    {
      "cell_type": "code",
      "metadata": {
        "id": "t24iy7MuOnQo",
        "colab": {
          "base_uri": "https://localhost:8080/"
        },
        "outputId": "141693a6-c205-4a7a-bac5-2e64e23114ef"
      },
      "source": [
        "!cp /content/drive/MyDrive/Brandeis/train.zip /content\n",
        "%cd /content\n",
        "!unzip -o train.zip"
      ],
      "execution_count": null,
      "outputs": [
        {
          "output_type": "stream",
          "text": [
            "cp: cannot stat '/content/drive/MyDrive/Brandeis/train.zip': No such file or directory\n",
            "/content\n",
            "unzip:  cannot find or open train.zip, train.zip.zip or train.zip.ZIP.\n"
          ],
          "name": "stdout"
        }
      ]
    },
    {
      "cell_type": "code",
      "metadata": {
        "id": "DVE0jJNnRC3Y"
      },
      "source": [
        "!pip install git+https://github.com/ufoym/imbalanced-dataset-sampler.git"
      ],
      "execution_count": null,
      "outputs": []
    },
    {
      "cell_type": "code",
      "metadata": {
        "id": "A4YuW5h80lNL",
        "colab": {
          "base_uri": "https://localhost:8080/"
        },
        "outputId": "3bdbf2ac-4abe-413d-cac8-8b754b0ad95e"
      },
      "source": [
        "import shutil,os\n",
        "os.chdir('/content/drive/MyDrive/Brandeis/COSI-149B/')\n",
        "import numpy as np\n",
        "import pandas as pd\n",
        "from PIL import Image\n",
        "from skimage import io\n",
        "import torch\n",
        "print(torch.__version__)\n",
        "import torch.nn as NN\n",
        "import torch.nn.functional as F\n",
        "import torch.optim as optim\n",
        "import torchvision\n",
        "import torchvision.transforms.functional as TF\n",
        "from torch.utils.data import Dataset, DataLoader, WeightedRandomSampler\n",
        "import torchvision.transforms as transforms\n",
        "from torchvision import models\n",
        "import argparse\n",
        "import time\n",
        "from tqdm import tqdm_notebook as tqdm\n",
        "from torchsampler import ImbalancedDatasetSampler"
      ],
      "execution_count": null,
      "outputs": [
        {
          "output_type": "stream",
          "text": [
            "1.8.1+cu101\n"
          ],
          "name": "stdout"
        }
      ]
    },
    {
      "cell_type": "code",
      "metadata": {
        "id": "55vt3V8H0lH9"
      },
      "source": [
        "class CSVDataset(Dataset):\n",
        "  def __init__(self, df, path, transform0=None, transform1=None, balance=True):\n",
        "      # loads csv file as a dataframe object\n",
        "      self.df = df\n",
        "      self.transform0 = transform0\n",
        "      self.transform1 = transform1\n",
        "      self.path = path\n",
        "      if balance:\n",
        "        df_pos = df[df['class'] > 0]\n",
        "        df_neg = df[df['class'] == 0]\n",
        "        len_pos = len(df_pos)\n",
        "        len_neg = len(df_neg)\n",
        "        df_pos_new = df_pos.sample(n = len_neg, axis = 0, replace = True)\n",
        "        self.df = pd.concat([df_pos_new, df_neg], axis = 0)\n",
        "        self.df = self.df.sample(frac=1).reset_index(drop=True)\n",
        "\n",
        "  def __len__(self):\n",
        "      return len(self.df)\n",
        "\n",
        "  def __getitem__(self, index):\n",
        "      # load label\n",
        "      lbl = self.df.iloc[index]\n",
        "      img_path = lbl['filename']\n",
        "      # load class\n",
        "      if lbl['class'] != 0:\n",
        "        img_class = 1\n",
        "      else:\n",
        "        img_class = 0\n",
        "      # convert path to load images on HPCC\n",
        "      img_path = self.path + img_path\n",
        "      img = Image.open(img_path).convert('RGB')\n",
        "      if img_class == 0:\n",
        "        img = self.transform0(img)\n",
        "      else: \n",
        "        img = self.transform1(img)\n",
        "      return img, img_class"
      ],
      "execution_count": null,
      "outputs": []
    },
    {
      "cell_type": "code",
      "metadata": {
        "id": "cV8Ylf9z0lFX"
      },
      "source": [
        "df=pd.read_csv(\"data.csv\")"
      ],
      "execution_count": null,
      "outputs": []
    },
    {
      "cell_type": "code",
      "metadata": {
        "id": "yjNd_CAZ0xEo",
        "colab": {
          "base_uri": "https://localhost:8080/"
        },
        "outputId": "27c6b562-25d4-45fd-9e90-cbb878205c2d"
      },
      "source": [
        "use_gpu = torch.cuda.is_available()\n",
        "gpu_info = !nvidia-smi\n",
        "gpu_info = '\\n'.join(gpu_info)\n",
        "if gpu_info.find('failed') >= 0:\n",
        "  print('Select the Runtime > \"Change runtime type\" menu to enable a GPU accelerator, ')\n",
        "  print('and then re-execute this cell.')\n",
        "else:\n",
        "  print(gpu_info)"
      ],
      "execution_count": null,
      "outputs": [
        {
          "output_type": "stream",
          "text": [
            "Mon Apr 12 02:09:03 2021       \n",
            "+-----------------------------------------------------------------------------+\n",
            "| NVIDIA-SMI 460.67       Driver Version: 460.32.03    CUDA Version: 11.2     |\n",
            "|-------------------------------+----------------------+----------------------+\n",
            "| GPU  Name        Persistence-M| Bus-Id        Disp.A | Volatile Uncorr. ECC |\n",
            "| Fan  Temp  Perf  Pwr:Usage/Cap|         Memory-Usage | GPU-Util  Compute M. |\n",
            "|                               |                      |               MIG M. |\n",
            "|===============================+======================+======================|\n",
            "|   0  Tesla P100-PCIE...  Off  | 00000000:00:04.0 Off |                    0 |\n",
            "| N/A   44C    P0    28W / 250W |      2MiB / 16280MiB |      0%      Default |\n",
            "|                               |                      |                  N/A |\n",
            "+-------------------------------+----------------------+----------------------+\n",
            "                                                                               \n",
            "+-----------------------------------------------------------------------------+\n",
            "| Processes:                                                                  |\n",
            "|  GPU   GI   CI        PID   Type   Process name                  GPU Memory |\n",
            "|        ID   ID                                                   Usage      |\n",
            "|=============================================================================|\n",
            "|  No running processes found                                                 |\n",
            "+-----------------------------------------------------------------------------+\n"
          ],
          "name": "stdout"
        }
      ]
    },
    {
      "cell_type": "code",
      "metadata": {
        "id": "H2AQucC90k9s"
      },
      "source": [
        "def callback(dataset, idx):\n",
        "  return dataset[idx][1]\n",
        "\n",
        "df_all = df.copy()\n",
        "df_n = pd.read_csv(\"n.csv\")\n",
        "df_p = pd.read_csv(\"p.csv\")\n",
        "\n",
        "mean = (0.7192409, 0.7192409, 0.7192409)\n",
        "std = (0.01884892, 0.01884892, 0.01884892)\n",
        "\n",
        "testTransform = transforms.Compose([\n",
        "    transforms.Resize([224, 224]),\n",
        "    transforms.ToTensor(),\n",
        "    transforms.Normalize(mean,std)\n",
        "])\n",
        "\n",
        "transform_set = [\n",
        "    transforms.CenterCrop((int(129*0.8))),\n",
        "    transforms.RandomHorizontalFlip(),\n",
        "    transforms.RandomVerticalFlip(),\n",
        "    # transforms.RandomRotation(degrees = 90)\n",
        "]\n",
        "trainTransform = transforms.Compose([\n",
        "    transforms.RandomChoice(transform_set),\n",
        "    transforms.Resize([224, 224]),\n",
        "    transforms.ToTensor(),\n",
        "    transforms.Normalize(mean, std)\n",
        "])\n",
        "\n",
        "\n",
        "train_batchsize = 64\n",
        "test_batchsize = 10\n",
        "trainEpochsInit = 100\n",
        "trainEpochs = 50\n",
        "learningRate = 0.0001\n",
        "sgdmomentum = 0.9\n",
        "betas = (0.9, 0.999)\n",
        "eps = 1e-08\n",
        "weight_decay=0\n",
        "batch_init = 1\n",
        "partition_init = 1\n"
      ],
      "execution_count": null,
      "outputs": []
    },
    {
      "cell_type": "code",
      "metadata": {
        "id": "gM1T2tJVwQWg"
      },
      "source": [
        "def genDataLoader(batch, partition):\n",
        "  div1_n = int(len(df_n)/10*(10-batch))\n",
        "  div2_n = int(len(df_n)/10*(10-batch+1))\n",
        "  df_n_train = df_n[0:div1_n].copy().append(df_n[div2_n:])\n",
        "  df_n_test = df_n[div1_n: div2_n].copy()\n",
        "\n",
        "  div1_p = int(len(df_p)/10*(10-batch))\n",
        "  div2_p = int(len(df_p)/10*(10-batch+1))\n",
        "  df_p_train = df_p[0:div1_p].copy().append(df_p[div2_p:])\n",
        "  df_p_test = df_p[div1_p: div2_p].copy()\n",
        "\n",
        "\n",
        "  if partition == 1:\n",
        "    df_train_all = df_n_train[0:int(len(df_n_train)/2)].append(df_p_train)\n",
        "  else:\n",
        "    df_train_all = df_n_train[int(len(df_n_train)/2):].append(df_p_train)\n",
        "  df_train_all = df_train_all.sample(frac=1).reset_index(drop=True)\n",
        "  df_test_all = df_n_test.append(df_p_test)\n",
        "  df_test_all = df_test_all.sample(frac=1).reset_index(drop=True)\n",
        "\n",
        "  trainSet = CSVDataset(df_train_all, '/content/', trainTransform, trainTransform)\n",
        "  testSet = CSVDataset(df_test_all, '/content/', testTransform, testTransform, False)\n",
        "  # sampler = WeightedRandomSampler(weights, len(weights), True)\n",
        "  # trainLoader = DataLoader(trainSet, batch_size=train_batchsize, sampler=ImbalancedDatasetSampler(trainSet, callback_get_label=callback))\n",
        "  trainLoader = DataLoader(trainSet, batch_size=train_batchsize, shuffle=False)\n",
        "  testLoader = DataLoader(testSet, batch_size=test_batchsize, shuffle=False)\n",
        "  return trainLoader, testLoader\n"
      ],
      "execution_count": null,
      "outputs": []
    },
    {
      "cell_type": "code",
      "metadata": {
        "id": "qrSxpTIUcOZs"
      },
      "source": [
        "from torch.autograd import Variable\n",
        "class FocalLoss(NN.Module):\n",
        "    r\"\"\"\n",
        "        This criterion is a implemenation of Focal Loss, which is proposed in \n",
        "        Focal Loss for Dense Object Detection.\n",
        "\n",
        "            Loss(x, class) = - \\alpha (1-softmax(x)[class])^gamma \\log(softmax(x)[class])\n",
        "\n",
        "        The losses are averaged across observations for each minibatch.\n",
        "\n",
        "        Args:\n",
        "            alpha(1D Tensor, Variable) : the scalar factor for this criterion\n",
        "            gamma(float, double) : gamma > 0; reduces the relative loss for well-classiﬁed examples (p > .5), \n",
        "                                   putting more focus on hard, misclassiﬁed examples\n",
        "            size_average(bool): By default, the losses are averaged over observations for each minibatch.\n",
        "                                However, if the field size_average is set to False, the losses are\n",
        "                                instead summed for each minibatch.\n",
        "\n",
        "\n",
        "    \"\"\"\n",
        "    def __init__(self, class_num, alpha=None, gamma=2, size_average=True):\n",
        "        super(FocalLoss, self).__init__()\n",
        "        if alpha is None:\n",
        "            self.alpha = Variable(torch.ones(class_num, 1))\n",
        "        else:\n",
        "            if isinstance(alpha, Variable):\n",
        "                self.alpha = alpha\n",
        "            else:\n",
        "                self.alpha = Variable(alpha)\n",
        "        self.gamma = gamma\n",
        "        self.class_num = class_num\n",
        "        self.size_average = size_average\n",
        "\n",
        "    def forward(self, inputs, targets):\n",
        "        N = inputs.size(0)\n",
        "        C = inputs.size(1)\n",
        "        P = F.softmax(inputs, dim=1)\n",
        "\n",
        "        class_mask = inputs.data.new(N, C).fill_(0)\n",
        "        class_mask = Variable(class_mask)\n",
        "        ids = targets.view(-1, 1)\n",
        "        class_mask.scatter_(1, ids.data, 1.)\n",
        "        #print(class_mask)\n",
        "\n",
        "\n",
        "        if inputs.is_cuda and not self.alpha.is_cuda:\n",
        "            self.alpha = self.alpha.cuda()\n",
        "        alpha = self.alpha[ids.data.view(-1)]\n",
        "\n",
        "        probs = (P*class_mask).sum(1).view(-1,1)\n",
        "\n",
        "        log_p = probs.log()\n",
        "\n",
        "        batch_loss = -alpha*(torch.pow((1-probs), self.gamma))*log_p \n",
        "\n",
        "        if self.size_average:\n",
        "            loss = batch_loss.mean()\n",
        "        else:\n",
        "            loss = batch_loss.sum()\n",
        "        return loss"
      ],
      "execution_count": null,
      "outputs": []
    },
    {
      "cell_type": "code",
      "metadata": {
        "id": "u24d6Cz50xCG"
      },
      "source": [
        "# Define the model\n",
        "class Net(NN.Module):\n",
        "    def __init__(self, num_classes=2):\n",
        "      super(Net, self).__init__()\n",
        "      net = models.vgg16_bn(pretrained=False) \n",
        "      net.classifier = NN.Sequential()\t\n",
        "      self.features = net\t\t\n",
        "      self.classifier = NN.Sequential(  \n",
        "              NN.Linear(512 * 7 * 7, 4096),\n",
        "              NN.ReLU(True),\n",
        "              NN.Dropout(p=0.5),\n",
        "              NN.Linear(4096, 4096),\n",
        "              NN.ReLU(True),\n",
        "              NN.Dropout(p=0.5),\n",
        "              NN.Linear(4096, num_classes),\n",
        "      )\n",
        "\n",
        "    def forward(self, x):\n",
        "      x = self.features(x)\n",
        "      x = x.view(x.size(0), -1)\n",
        "      x = self.classifier(x)\n",
        "      return F.log_softmax(x, dim=1)\n",
        "\n",
        "def train(model, train_loader, optimizer, epoch):\n",
        "    model.train()\n",
        "    for batch_idx, (data, target) in enumerate(train_loader):\n",
        "        criterion = FocalLoss(class_num = 2)\n",
        "        if (use_gpu):\n",
        "            model = model.cuda()\n",
        "            data = data.cuda()\n",
        "            target = target.cuda()\n",
        "            criterion = criterion.cuda()\n",
        "        optimizer.zero_grad()\n",
        "        output = model( data )\n",
        "        loss = criterion(output, target)\n",
        "        loss.backward()\n",
        "        optimizer.step()\n",
        "        if batch_idx % 100 == 0:\n",
        "            print('Train Epoch: {} [{}/{} ({:.0f}%)]\\tLoss: {:.6f}'.format(\n",
        "                epoch+1, batch_idx * len(data), len(train_loader.dataset),\n",
        "                100. * batch_idx / len(train_loader), loss.item()))\n",
        "\n",
        "def test(model, test_loader):\n",
        "    model.eval()\n",
        "    test_loss = 0\n",
        "    correct = 0\n",
        "\n",
        "    totalT = 0\n",
        "    totalF = 0\n",
        "    TP = 0\n",
        "    FP = 0\n",
        "    TN = 0\n",
        "    FN = 0\n",
        "\n",
        "    with torch.no_grad():\n",
        "        for data, target in test_loader:\n",
        "            criterion = FocalLoss(class_num = 2, size_average = False)\n",
        "            if (use_gpu):\n",
        "                model = model.cuda()\n",
        "                data = data.cuda()\n",
        "                target = target.cuda()\n",
        "                criterion = criterion.cuda()\n",
        "            output = model(data)\n",
        "            test_loss += criterion(output, target).item() # sum up batch loss\n",
        "            pred = output.argmax(dim=1, keepdim=True) # get the index of the max log-probability\n",
        "            correct += pred.eq(target.view_as(pred)).sum().item()\n",
        "            for i in range(len(target)):\n",
        "              if target[i] == 1:\n",
        "                totalT = totalT+1\n",
        "                if target[i] == pred[i]:\n",
        "                  TP = TP+1\n",
        "                else:\n",
        "                  FN = FN + 1\n",
        "              else:\n",
        "                totalF = totalF+1\n",
        "                if target[i] == pred[i]:\n",
        "                  TN = TN+1\n",
        "                else:\n",
        "                  FP = FP + 1\n",
        "\n",
        "    test_loss /= len(test_loader.dataset)\n",
        "    recall = 1.* TP / (TP + FN + 1e-8)\n",
        "    precision = 1. * TP / (TP + FP + 1e-8)\n",
        "    F1 = 2*recall*precision/(recall+precision+1e-8)\n",
        "\n",
        "    print('\\nTest set: Average loss: {:.6f}, Accuracy: {}/{} ({:.0f}%)'.format(\n",
        "        test_loss, correct, len(test_loader.dataset),\n",
        "        100. * correct / len(test_loader.dataset)))\n",
        "    print('False: {}/{} True: {}/{}\\n'.format(\n",
        "        TN, totalF, TP, totalT\n",
        "    ))\n",
        "    print('recall: {}\\tprecision: {}\\tF1: {}\\n'.format(recall, precision, F1))\n",
        "    return test_loss"
      ],
      "execution_count": null,
      "outputs": []
    },
    {
      "cell_type": "code",
      "metadata": {
        "id": "N7IB99JI0w_p"
      },
      "source": [
        "# Train and test\n",
        "model = Net()\n",
        "optimizer = optim.Adam(model.parameters(), lr=learningRate, betas=betas, eps=eps, weight_decay=weight_decay)\n",
        "scheduler = torch.optim.lr_scheduler.ReduceLROnPlateau(optimizer, mode='min', factor=0.3, patience=10, verbose=True, threshold=0.001, threshold_mode='rel', cooldown=0, min_lr=0, eps=1e-08)\n",
        "\n",
        "epochs_train = trainEpochs\n",
        "partition = partition_init\n",
        "for batch in range(batch_init, 10):\n",
        "  while (partition < 3):\n",
        "    print(\" ============= Batch \" + str(batch) + \" P \" + str(partition) + \" Start ==============\\n\")\n",
        "    if batch_init == 1 & partition == 1:\n",
        "      epochs_train = trainEpochsInit\n",
        "    elif partition == 1:\n",
        "      model.load_state_dict(torch.load(\"cnn_vgg16_train_\" + str(batch-1) + \"_2.pt\"))\n",
        "    else:\n",
        "      model.load_state_dict(torch.load(\"cnn_vgg16_train_\" + str(batch) + \"_1.pt\"))\n",
        "\n",
        "    trainLoader, testLoader = genDataLoader(batch, partition)\n",
        "    \n",
        "    pre_loss = 0\n",
        "    stoper = 0\n",
        "    for epoch in range(epochs_train):\n",
        "        train(model, trainLoader, optimizer, epoch)\n",
        "        loss = test(model, testLoader)\n",
        "        scheduler.step(loss)\n",
        "\n",
        "        if epoch > 50:\n",
        "          if loss > pre_loss:\n",
        "            stoper = stoper + 1\n",
        "          else:\n",
        "            stoper = 0\n",
        "          if stoper == 5:\n",
        "            print(\"Stop at epoch \" + str(epoch) + \" >>>>>>>>>>>>>\")\n",
        "            stoper = 0\n",
        "            break\n",
        "          pre_loss = loss\n",
        "\n",
        "          if epoch % 5 == 0:\n",
        "            torch.save(model.state_dict(),\"cnn_vgg16_train_\" + str(batch) + \"_\" + str(partition) + \".pt\")\n",
        "        else:\n",
        "          if epoch % 5 == 0:\n",
        "            torch.save(model.state_dict(),\"cnn_vgg16_train_\" + str(batch) + \"_\" + str(partition) + \".pt\")\n",
        "    partition = partition + 1\n",
        "  partition = 1"
      ],
      "execution_count": null,
      "outputs": []
    },
    {
      "cell_type": "code",
      "metadata": {
        "id": "xaw5pSJm0T3y"
      },
      "source": [
        "# test the model on all train dataset\n",
        "allSet = CSVDataset(df_all, '/content/', testTransform, testTransform, False)\n",
        "allLoader = DataLoader(allSet, batch_size=test_batchsize, shuffle=False)\n",
        "model = Net()\n",
        "partition = 1\n",
        "for batch in range(1, 10):\n",
        "  while (partition < 3):\n",
        "    print(\" ============= Test Batch \" + str(batch) + \" P \" + str(partition) + \" Start ==============\\n\")\n",
        "    model.load_state_dict(torch.load(\"cnn_vgg19_result/cnn_vgg16_train_\" + str(batch) + \"_\" + str(partition) + \".pt\"))\n",
        "    test(model, allLoader)\n",
        "    partition = partition + 1\n",
        "  partition = 1"
      ],
      "execution_count": null,
      "outputs": []
    }
  ]
}